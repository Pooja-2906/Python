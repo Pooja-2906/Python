{
 "cells": [
  {
   "cell_type": "markdown",
   "id": "99ccc29a-b7e3-4606-b571-3de7538d3eee",
   "metadata": {},
   "source": [
    "# Cafe Management System"
   ]
  },
  {
   "cell_type": "code",
   "execution_count": null,
   "id": "40f59b9e-3487-4e46-82b0-9f17a5982db6",
   "metadata": {},
   "outputs": [],
   "source": [
    "# Overview = Create and categorize menu items with detailed descriptions and prices.\n",
    "# In this system customers can order their favourite food items without facing any rush during summer season."
   ]
  },
  {
   "cell_type": "code",
   "execution_count": null,
   "id": "67e19960-cf4b-473d-826a-6baeb693cc25",
   "metadata": {},
   "outputs": [
    {
     "name": "stdout",
     "output_type": "stream",
     "text": [
      "Welcome to our Thandai Cafe\n",
      "Inspired by Summer, our new menu is made for your seasonal tastes....\n",
      "Kairi Panhe: RS80\n",
      "Solkadi: RS70\n",
      "Aamras: RS120\n",
      "Buttermilk: RS20\n",
      "Curd: RS70\n",
      "Salad: RS150\n"
     ]
    }
   ],
   "source": [
    "menu = {\n",
    "    'Kairi Panhe': 80,\n",
    "    'Solkadi': 70,\n",
    "    'Aamras': 120,\n",
    "    'Buttermilk': 20,\n",
    "    'Curd': 70,\n",
    "    'Salad': 150\n",
    "}\n",
    "\n",
    "# 2 print Statements - 1 - for greetings, 2- dislaying the menus with prices.\n",
    "print(\"Welcome to our Thandai Cafe\\nInspired by Summer, our new menu is made for your seasonal tastes....\")\n",
    "print(\"Kairi Panhe: RS80\\nSolkadi: RS70\\nAamras: RS120\\nButtermilk: RS20\\nCurd: RS70\\nSalad: RS150\")\n",
    "\n",
    "Total_order = 0  # total cost of items\n",
    "\n",
    "item_1 = input(\"Enter the name of your item you want to order: \")\n",
    "if item_1 in menu:\n",
    "    Total_order += menu[item_1]\n",
    "    print(\"Your item added to your order:\", item_1)\n",
    "else:\n",
    "    print(\"Oops we're currently out of the\", item_1)\n",
    "    print(\"Would you like to try something else from the menu?\")\n",
    "\n",
    "another_order = input(\"Anything else you'd like to add to your order? (Yes/No): \")\n",
    "\n",
    "if another_order.lower() == \"yes\":\n",
    "    item_2 = input(\"Great! What would you like to add?: \")\n",
    "    if item_2 in menu:\n",
    "        Total_order += menu[item_2]\n",
    "        print(\"Your item added to your order:\", item_2)\n",
    "    else:\n",
    "        print(\"Oops we're currently out of the\", item_2)\n",
    "        print(\"Would you like to try something else from the menu?\")\n",
    "\n",
    "    another_order_2 = input(\"Anything else you'd like to add to your order? (Yes/No): \")\n",
    "    if another_order_2.lower() == \"yes\":\n",
    "        item_3 = input(\"Great! What would you like to add?: \")\n",
    "        if item_3 in menu:\n",
    "            Total_order += menu[item_3]\n",
    "            print(\"Your item added to your order:\", item_3)\n",
    "        else:\n",
    "            print(\"Oops we're currently out of the\", item_3)\n",
    "            print(\"Would you like to try something else from the menu?\")\n",
    "\n",
    "print(\"Thanks for your order\\nThe total amount of items is Rs\", Total_order)\n"
   ]
  },
  {
   "cell_type": "code",
   "execution_count": null,
   "id": "5e8ca3b9-be5c-494e-b246-f0bb80f65bcb",
   "metadata": {},
   "outputs": [],
   "source": []
  }
 ],
 "metadata": {
  "kernelspec": {
   "display_name": "Python 3 (ipykernel)",
   "language": "python",
   "name": "python3"
  },
  "language_info": {
   "codemirror_mode": {
    "name": "ipython",
    "version": 3
   },
   "file_extension": ".py",
   "mimetype": "text/x-python",
   "name": "python",
   "nbconvert_exporter": "python",
   "pygments_lexer": "ipython3",
   "version": "3.13.1"
  }
 },
 "nbformat": 4,
 "nbformat_minor": 5
}
